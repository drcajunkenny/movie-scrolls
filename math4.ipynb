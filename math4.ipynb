{
 "cells": [
  {
   "cell_type": "markdown",
   "id": "2731e71d",
   "metadata": {},
   "source": [
    "# Imports"
   ]
  },
  {
   "cell_type": "code",
   "execution_count": null,
   "id": "04068469",
   "metadata": {},
   "outputs": [],
   "source": [
    "import numpy as np\n",
    "import tensorflow as tf\n",
    "from tensorflow.keras.models import Sequential\n",
    "from tensorflow.keras.layers import Dense, Flatten, Dropout\n",
    "from tensorflow.keras.callbacks import TensorBoard\n",
    "from PIL import Image\n",
    "from datetime import datetime\n",
    "import os"
   ]
  },
  {
   "cell_type": "markdown",
   "id": "f31a51cb",
   "metadata": {},
   "source": [
    "# Seed for reproducing"
   ]
  },
  {
   "cell_type": "code",
   "execution_count": null,
   "id": "98eb7b15",
   "metadata": {},
   "outputs": [],
   "source": [
    "np.random.seed(888)\n",
    "tf.random.set_seed(404)"
   ]
  },
  {
   "cell_type": "markdown",
   "id": "12ec726f",
   "metadata": {},
   "source": [
    "# Constants"
   ]
  },
  {
   "cell_type": "code",
   "execution_count": null,
   "id": "002714bc",
   "metadata": {},
   "outputs": [],
   "source": [
    "X_TRAIN_PATH = 'MNIST/digit_xtrain.csv'\n",
    "X_TEST_PATH = 'MNIST/digit_xtest.csv'\n",
    "Y_TRAIN_PATH = 'MNIST/digit_ytrain.csv'\n",
    "Y_TEST_PATH = 'MNIST/digit_ytest.csv'\n",
    "NR_CLASSES = 10\n",
    "VALIDATION_SIZE = 10000\n",
    "IMAGE_WIDTH = 28\n",
    "IMAGE_HEIGHT = 28\n",
    "CHANNELS = 1\n",
    "TOTAL_INPUTS = IMAGE_WIDTH * IMAGE_HEIGHT * CHANNELS"
   ]
  },
  {
   "cell_type": "markdown",
   "id": "f39f2263",
   "metadata": {},
   "source": [
    "# Get the Data"
   ]
  },
  {
   "cell_type": "code",
   "execution_count": null,
   "id": "bfd50855",
   "metadata": {},
   "outputs": [],
   "source": [
    "y_train_all = np.loadtxt(Y_TRAIN_PATH, delimiter=',', dtype=int)\n",
    "x_train_all = np.loadtxt(X_TRAIN_PATH, delimiter=',', dtype=int)\n",
    "x_test = np.loadtxt(X_TEST_PATH, delimiter=',', dtype=int)\n",
    "y_test = np.loadtxt(Y_TEST_PATH, delimiter=',', dtype=int)\n"
   ]
  },
  {
   "cell_type": "markdown",
   "id": "d0464c1f",
   "metadata": {},
   "source": [
    "# Data Preprocessing"
   ]
  },
  {
   "cell_type": "code",
   "execution_count": null,
   "id": "7a7b3863",
   "metadata": {},
   "outputs": [],
   "source": [
    "x_train_all, x_test = x_train_all / 255.0, x_test / 255.0\n",
    "y_train_all = np.eye(NR_CLASSES)[y_train_all]\n",
    "y_test = np.eye(NR_CLASSES)[y_test]"
   ]
  },
  {
   "cell_type": "markdown",
   "id": "bfa3c63a",
   "metadata": {},
   "source": [
    "# Create validation dataset from training data"
   ]
  },
  {
   "cell_type": "code",
   "execution_count": null,
   "id": "d6367f4c",
   "metadata": {},
   "outputs": [],
   "source": [
    "x_val = x_train_all[:VALIDATION_SIZE]\n",
    "y_val = y_train_all[:VALIDATION_SIZE]\n",
    "x_train = x_train_all[VALIDATION_SIZE:]\n",
    "y_train = y_train_all[VALIDATION_SIZE:]"
   ]
  },
  {
   "cell_type": "markdown",
   "id": "e7cfe128",
   "metadata": {},
   "source": [
    "# Neural Network Architecture"
   ]
  },
  {
   "cell_type": "code",
   "execution_count": null,
   "id": "813da82b",
   "metadata": {},
   "outputs": [],
   "source": [
    "nr_epochs = 50\n",
    "learning_rate = 1e-3\n",
    "n_hidden1 = 512\n",
    "n_hidden2 = 64"
   ]
  },
  {
   "cell_type": "markdown",
   "id": "8ebb86f7",
   "metadata": {},
   "source": [
    "# Define the Model"
   ]
  },
  {
   "cell_type": "code",
   "execution_count": null,
   "id": "21bd8e6f",
   "metadata": {},
   "outputs": [],
   "source": [
    "model = Sequential([\n",
    "    Flatten(input_shape=(TOTAL_INPUTS,)),\n",
    "    Dense(n_hidden1, activation='relu'),\n",
    "    Dropout(0.8),\n",
    "    Dense(n_hidden2, activation='relu'),\n",
    "    Dense(NR_CLASSES, activation='softmax')\n",
    "])"
   ]
  },
  {
   "cell_type": "markdown",
   "id": "ef10797b",
   "metadata": {},
   "source": [
    "# Compile the Model"
   ]
  },
  {
   "cell_type": "code",
   "execution_count": null,
   "id": "c7ebd525",
   "metadata": {},
   "outputs": [],
   "source": [
    "model.compile(optimizer=tf.keras.optimizers.Adam(learning_rate=learning_rate),\n",
    "              loss='categorical_crossentropy',\n",
    "              metrics=['accuracy'])"
   ]
  },
  {
   "cell_type": "markdown",
   "id": "db932bdc",
   "metadata": {},
   "source": [
    "# TensorBoard Setup"
   ]
  },
  {
   "cell_type": "code",
   "execution_count": null,
   "id": "ef7aa400",
   "metadata": {},
   "outputs": [],
   "source": [
    "log_dir = os.path.join(\"logs\", \"fit\", datetime.now().strftime(\"%Y%m%d-%H%M%S\"))\n",
    "tensorboard_callback = TensorBoard(log_dir=log_dir, histogram_freq=1)"
   ]
  },
  {
   "cell_type": "markdown",
   "id": "4acfe601",
   "metadata": {},
   "source": [
    "# Training the Model with TensorBoard"
   ]
  },
  {
   "cell_type": "code",
   "execution_count": null,
   "id": "e18932e5",
   "metadata": {},
   "outputs": [],
   "source": [
    "history = model.fit(\n",
    "    x_train, y_train, \n",
    "    epochs=nr_epochs, \n",
    "    batch_size=1000, \n",
    "    validation_data=(x_val, y_val), \n",
    "    callbacks=[tensorboard_callback]\n",
    ")"
   ]
  },
  {
   "cell_type": "markdown",
   "id": "c344c732",
   "metadata": {},
   "source": [
    "# Saving the Model"
   ]
  },
  {
   "cell_type": "code",
   "execution_count": null,
   "id": "d503d3a6",
   "metadata": {},
   "outputs": [],
   "source": [
    "model.save('SavedModel/my_model')"
   ]
  },
  {
   "cell_type": "markdown",
   "id": "fee3e5a4",
   "metadata": {},
   "source": [
    "# Making a Prediction"
   ]
  },
  {
   "cell_type": "code",
   "execution_count": null,
   "id": "7402b013",
   "metadata": {},
   "outputs": [],
   "source": [
    "def make_prediction(image_path):\n",
    "    img = Image.open(image_path)\n",
    "    bw = img.convert('L')\n",
    "    img_array = np.invert(bw)\n",
    "    test_img = img_array.ravel() / 255.0\n",
    "    prediction = model.predict(np.array([test_img]))\n",
    "    return np.argmax(prediction)"
   ]
  },
  {
   "cell_type": "markdown",
   "id": "edead80a",
   "metadata": {},
   "source": [
    "# Example of making a prediction"
   ]
  },
  {
   "cell_type": "code",
   "execution_count": null,
   "id": "fbaab4b5",
   "metadata": {},
   "outputs": [],
   "source": [
    "prediction = make_prediction('MNIST/test_img.png')\n",
    "print(f'Prediction for test image is {prediction}')"
   ]
  },
  {
   "cell_type": "markdown",
   "id": "4e8f64ad",
   "metadata": {},
   "source": [
    "# Testing and Evaluation"
   ]
  },
  {
   "cell_type": "code",
   "execution_count": null,
   "id": "6f91cd29",
   "metadata": {},
   "outputs": [],
   "source": [
    "test_loss, test_accuracy = model.evaluate(x_test, y_test)\n",
    "print(f\"Test loss: {test_loss}, Test accuracy: {test_accuracy:.2%}\")"
   ]
  }
 ],
 "metadata": {
  "kernelspec": {
   "display_name": "Python 3 (ipykernel)",
   "language": "python",
   "name": "python3"
  },
  "language_info": {
   "codemirror_mode": {
    "name": "ipython",
    "version": 3
   },
   "file_extension": ".py",
   "mimetype": "text/x-python",
   "name": "python",
   "nbconvert_exporter": "python",
   "pygments_lexer": "ipython3",
   "version": "3.11.5"
  }
 },
 "nbformat": 4,
 "nbformat_minor": 5
}
